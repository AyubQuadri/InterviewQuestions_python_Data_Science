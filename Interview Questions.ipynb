{
 "cells": [
  {
   "cell_type": "markdown",
   "metadata": {},
   "source": [
    "# Basic Python Questions"
   ]
  },
  {
   "cell_type": "markdown",
   "metadata": {},
   "source": [
    "Q1. Write a code to split a big list into smaller based on the specified number of elements, also find the maximum elements of each smaller list "
   ]
  },
  {
   "cell_type": "code",
   "execution_count": 2,
   "metadata": {},
   "outputs": [],
   "source": [
    "My_list = [1,24,5,7,8,2,53,45,6,7,9,10,23,45,7,8,79,985,634,231,23,34356,76,4]\n",
    "\n",
    "# splitting this big list can be done using 2 ways\n",
    "# 1. using Yield method\n",
    "# 2. compriancieve list\n"
   ]
  },
  {
   "cell_type": "markdown",
   "metadata": {},
   "source": [
    "#### Yield Method\n",
    "- The yield keyword enables a function to comeback where it left off when it is called again. \n",
    "- This is the critical difference from a regular function. A regular function cannot comes back where it left off. \n",
    "- The yield keyword helps a function to remember its state. \n",
    "- The yield enables a function to suspend and resume while it turns in a value at the time of the suspension of the execution."
   ]
  },
  {
   "cell_type": "code",
   "execution_count": 1,
   "metadata": {},
   "outputs": [],
   "source": [
    "def divide_chunk(big_list,n):\n",
    "    for i in range(0,len(big_list), n):\n",
    "        yield big_list[i: i+n]"
   ]
  },
  {
   "cell_type": "code",
   "execution_count": 4,
   "metadata": {},
   "outputs": [
    {
     "name": "stdout",
     "output_type": "stream",
     "text": [
      "[[1, 24, 5, 7, 8], [2, 53, 45, 6, 7], [9, 10, 23, 45, 7], [8, 79, 985, 634, 231], [23, 34356, 76, 4]]\n",
      "[1, 24, 5, 7, 8, 2, 53, 45, 6, 7, 9, 10, 23, 45, 7, 8, 79, 985, 634, 231, 23, 34356, 76, 4]\n"
     ]
    }
   ],
   "source": [
    "n = 5 \n",
    "small_list = list(divide_chunk(My_list,n))\n",
    "print(My_list)\n",
    "print(small_list)\n"
   ]
  },
  {
   "cell_type": "code",
   "execution_count": 19,
   "metadata": {},
   "outputs": [
    {
     "name": "stdout",
     "output_type": "stream",
     "text": [
      "Max elements of each list using Yield function\n",
      " [24, 53, 45, 985, 34356]\n"
     ]
    }
   ],
   "source": [
    "new_l =[]\n",
    "for i in small_list:\n",
    "    new_l.append(max(i))\n",
    "        \n",
    "print(\"Max elements of each list using Yield function\\n\",new_l)"
   ]
  },
  {
   "cell_type": "markdown",
   "metadata": {},
   "source": [
    "### Second way using list comprehesion"
   ]
  },
  {
   "cell_type": "code",
   "execution_count": 17,
   "metadata": {},
   "outputs": [
    {
     "name": "stdout",
     "output_type": "stream",
     "text": [
      "[[1, 24, 5, 7], [8, 2, 53, 45], [6, 7, 9, 10], [23, 45, 7, 8], [79, 985, 634, 231], [23, 34356, 76, 4]]\n"
     ]
    }
   ],
   "source": [
    "n = 4\n",
    "final = [My_list[i * n:(i + 1) * n] for i in range((len(My_list) + n - 1) // n )]  \n",
    "print (final)"
   ]
  },
  {
   "cell_type": "code",
   "execution_count": 20,
   "metadata": {},
   "outputs": [
    {
     "name": "stdout",
     "output_type": "stream",
     "text": [
      "Max elements of each list\n",
      " [24, 53, 10, 45, 985, 34356]\n"
     ]
    }
   ],
   "source": [
    "new = []\n",
    "for i in final:\n",
    "    new.append(max(i))\n",
    "print(\"Max elements of each list\\n\",new)"
   ]
  },
  {
   "cell_type": "markdown",
   "metadata": {},
   "source": [
    "Q2. Segrigate 0's & 1's in an array [0,0,0,1,0,1,0,1,0,1,1,1,0,0]"
   ]
  },
  {
   "cell_type": "code",
   "execution_count": 21,
   "metadata": {},
   "outputs": [],
   "source": [
    "arr = [0,0,0,1,0,1,0,1,0,1,1,1,0,0]\n",
    "def segrigate(ar):\n",
    "    res = ([x for x in arr if x==0] + [x for x in arr if x ==1])\n",
    "    return res\n"
   ]
  },
  {
   "cell_type": "code",
   "execution_count": 22,
   "metadata": {},
   "outputs": [
    {
     "name": "stdout",
     "output_type": "stream",
     "text": [
      "[0, 0, 0, 0, 0, 0, 0, 0, 1, 1, 1, 1, 1, 1]\n"
     ]
    }
   ],
   "source": [
    "print(segrigate(arr))"
   ]
  },
  {
   "cell_type": "code",
   "execution_count": 27,
   "metadata": {},
   "outputs": [
    {
     "name": "stdout",
     "output_type": "stream",
     "text": [
      "8 6\n"
     ]
    }
   ],
   "source": [
    "#def count_zeros_ones(arr):\n",
    "zero =0\n",
    "one = 0\n",
    "#res = [zero+ for x in arr if x==0]\n",
    "for x in arr:\n",
    "    if x==0:\n",
    "        zero = zero+1\n",
    "        #print(zero)\n",
    "    elif x ==1:\n",
    "        one = one+1\n",
    "        \n",
    "print(zero,one)"
   ]
  },
  {
   "cell_type": "code",
   "execution_count": 37,
   "metadata": {},
   "outputs": [
    {
     "name": "stdout",
     "output_type": "stream",
     "text": [
      "[1, 1, 1, 1, 1, 1, 1, 1, 1, 1, 1, 1, 1, 1]\n"
     ]
    }
   ],
   "source": [
    "zero =0\n",
    "print([zero+1 for i in arr if x==0])"
   ]
  },
  {
   "cell_type": "markdown",
   "metadata": {},
   "source": [
    "Q3. remove the duplicates from a list of 10,000 elements "
   ]
  },
  {
   "cell_type": "code",
   "execution_count": 34,
   "metadata": {},
   "outputs": [
    {
     "name": "stdout",
     "output_type": "stream",
     "text": [
      "[8 5 5 5 3 8 7 7 9 5 3 2]\n"
     ]
    }
   ],
   "source": [
    "import numpy as np\n",
    "Random_list = np.random.choice(10,12,replace=True)\n",
    "print(Random_list)"
   ]
  },
  {
   "cell_type": "code",
   "execution_count": 35,
   "metadata": {},
   "outputs": [
    {
     "data": {
      "text/plain": [
       "{2, 3, 5, 7, 8, 9}"
      ]
     },
     "execution_count": 35,
     "metadata": {},
     "output_type": "execute_result"
    }
   ],
   "source": [
    "set(Random_list)"
   ]
  },
  {
   "cell_type": "markdown",
   "metadata": {},
   "source": [
    "Q4. Write a code Push all zeros to the end of the list <br>\n",
    "Input :  arr = [1, 2, 0, 4, 3, 0, 5, 0]<br>\n",
    "\n",
    "Output : arr = [1, 2, 4, 3, 5, 0, 0, 0]"
   ]
  },
  {
   "cell_type": "code",
   "execution_count": 40,
   "metadata": {},
   "outputs": [],
   "source": [
    "arr = [1, 2, 0, 4, 3, 0, 5, 0] "
   ]
  },
  {
   "cell_type": "code",
   "execution_count": 43,
   "metadata": {},
   "outputs": [],
   "source": [
    "def pushZeros(arr):\n",
    "    return [nonZeros for nonZeros in arr if nonZeros!=0]+[zeros for zeros in arr if zeros ==0]"
   ]
  },
  {
   "cell_type": "code",
   "execution_count": 44,
   "metadata": {},
   "outputs": [
    {
     "name": "stdout",
     "output_type": "stream",
     "text": [
      "[1, 2, 4, 3, 5, 0, 0, 0]\n"
     ]
    }
   ],
   "source": [
    "print(pushZeros(arr))"
   ]
  },
  {
   "cell_type": "code",
   "execution_count": null,
   "metadata": {},
   "outputs": [],
   "source": [
    "Q5. "
   ]
  },
  {
   "cell_type": "code",
   "execution_count": null,
   "metadata": {},
   "outputs": [],
   "source": []
  }
 ],
 "metadata": {
  "kernelspec": {
   "display_name": "Python 3",
   "language": "python",
   "name": "python3"
  },
  "language_info": {
   "codemirror_mode": {
    "name": "ipython",
    "version": 3
   },
   "file_extension": ".py",
   "mimetype": "text/x-python",
   "name": "python",
   "nbconvert_exporter": "python",
   "pygments_lexer": "ipython3",
   "version": "3.6.5"
  }
 },
 "nbformat": 4,
 "nbformat_minor": 2
}
